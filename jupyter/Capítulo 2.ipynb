{
 "cells": [
  {
   "cell_type": "markdown",
   "metadata": {},
   "source": [
    "# Capítulo 2: Criando uma tabela\n",
    "\n",
    "No final do capítulo anterior digitamos o seguinte programa diretamente no interpretador Python:"
   ]
  },
  {
   "cell_type": "code",
   "execution_count": 3,
   "metadata": {
    "collapsed": false
   },
   "outputs": [
    {
     "name": "stdout",
     "output_type": "stream",
     "text": [
      "50 158.93\n",
      "55 174.82299999999998\n",
      "60 190.71599999999998\n",
      "65 206.60899999999998\n",
      "70 222.50199999999998\n",
      "75 238.39499999999998\n",
      "80 254.28799999999998\n",
      "85 270.181\n",
      "90 286.074\n",
      "95 301.967\n",
      "100 317.86\n",
      "105 333.753\n",
      "110 349.64599999999996\n",
      "115 365.539\n",
      "120 381.43199999999996\n",
      "125 397.325\n",
      "130 413.21799999999996\n",
      "135 429.111\n",
      "140 445.00399999999996\n",
      "145 460.897\n"
     ]
    }
   ],
   "source": [
    "d = 3.1786\n",
    "for p in range(50,150, 5): print(p, p * d)"
   ]
  },
  {
   "cell_type": "markdown",
   "metadata": {},
   "source": [
    "O resultado desta seqüência de comandos é uma longa lista de números em duas colunas. Sabemos que a primeira coluna da esquerda contém preços em dólar e a outra, em reais. Mas nada na listagem indica isto. Além disso, as colunas não estão corretamente alinhadas, e os valores em reais aparecem com duas ou mais casas decimais. Como se trata de uma tabela de preços, os valores em ambas colunas deveriam ter sempre duas casas decimais. Vamos fazer algumas melhorias em nosso programa gerador de tabelas de preços."
   ]
  },
  {
   "cell_type": "markdown",
   "metadata": {},
   "source": [
    "## Quatro tipos de dados\n",
    "\n",
    "Para evitar aquele degrau na segunda coluna entre o 99 e o 100, precisamos fazer um pequeno desvio para começar a aprender a lidar com textos, além de números. Digite `eu =` seguido do seu nome entre aspas:"
   ]
  },
  {
   "cell_type": "code",
   "execution_count": 6,
   "metadata": {
    "collapsed": true
   },
   "outputs": [],
   "source": [
    "eu = 'Fulano'"
   ]
  },
  {
   "cell_type": "markdown",
   "metadata": {},
   "source": [
    "Você tem que digitar as aspas para evitar um erro. As aspas podem ser 'simples' ou \"duplas\". Python guardará uma cópia do seu nome na memória do computador, e associará o identificador `eu` a esse dado. Agora basta digitar eu para ver o seu nome."
   ]
  },
  {
   "cell_type": "code",
   "execution_count": 5,
   "metadata": {
    "collapsed": false
   },
   "outputs": [
    {
     "data": {
      "text/plain": [
       "'Fulano'"
      ]
     },
     "execution_count": 5,
     "metadata": {},
     "output_type": "execute_result"
    }
   ],
   "source": [
    "eu"
   ]
  },
  {
   "cell_type": "markdown",
   "metadata": {},
   "source": [
    "Antes havíamos criado a variável `d` referindo-se à cotação do dólar, e no capítulo anterior também criamos uma variável chamada `lista`, contendo uma lista de valores. Agora criamos a variável `eu` para se referir ao seu nome. Estes são exemplos de três tipos de dados que Python é capaz de processar: número de ponto flutuante, lista de valores, e texto.\n",
    "\n",
    "Você pode saber o tipo de uma variável ou estrutura de dados usando a função `type`. Veja estes exemplos:"
   ]
  },
  {
   "cell_type": "code",
   "execution_count": 7,
   "metadata": {
    "collapsed": false
   },
   "outputs": [
    {
     "data": {
      "text/plain": [
       "str"
      ]
     },
     "execution_count": 7,
     "metadata": {},
     "output_type": "execute_result"
    }
   ],
   "source": [
    "eu = 'Luciano'\n",
    "type(eu)"
   ]
  },
  {
   "cell_type": "code",
   "execution_count": 8,
   "metadata": {
    "collapsed": false
   },
   "outputs": [
    {
     "data": {
      "text/plain": [
       "float"
      ]
     },
     "execution_count": 8,
     "metadata": {},
     "output_type": "execute_result"
    }
   ],
   "source": [
    "d = 3.1786\n",
    "type(d)"
   ]
  },
  {
   "cell_type": "markdown",
   "metadata": {},
   "source": [
    "Python acaba de nos dizer que a variável `eu` refere-se a um objeto do tipo `str`, uma abreviatura de \"string\" (basicamente o computador encara um texto como uma cadeia de caracteres). E a variável `d` aponta para um objeto do tipo `float`, ou \"número de ponto-flutuante\", como já vimos antes.\n",
    "\n",
    "Vejamos mais alguns tipos de dados:"
   ]
  },
  {
   "cell_type": "code",
   "execution_count": 11,
   "metadata": {
    "collapsed": false
   },
   "outputs": [
    {
     "data": {
      "text/plain": [
       "int"
      ]
     },
     "execution_count": 11,
     "metadata": {},
     "output_type": "execute_result"
    }
   ],
   "source": [
    "type(1)"
   ]
  },
  {
   "cell_type": "code",
   "execution_count": 10,
   "metadata": {
    "collapsed": false
   },
   "outputs": [
    {
     "data": {
      "text/plain": [
       "float"
      ]
     },
     "execution_count": 10,
     "metadata": {},
     "output_type": "execute_result"
    }
   ],
   "source": [
    "type(1.)"
   ]
  },
  {
   "cell_type": "code",
   "execution_count": 9,
   "metadata": {
    "collapsed": false
   },
   "outputs": [
    {
     "data": {
      "text/plain": [
       "list"
      ]
     },
     "execution_count": 9,
     "metadata": {},
     "output_type": "execute_result"
    }
   ],
   "source": [
    "type([1,2,3])"
   ]
  },
  {
   "cell_type": "markdown",
   "metadata": {},
   "source": [
    "Observe que o número 1 não é `float`, mas `int`. Já o número `1.` (\"um\" seguido de um ponto decimal) é considerado um `float`. Como já dissemos no primeiro capítulo, inteiros e ''floats'' têm tratamento diferente em Python. Uma divisão de inteiros (como 7/2), sempre fornece um resultado inteiro (3, nesse exemplo). O próximo dado testado é uma lista, `[1,2,3]`, que Python chama de `list`.\n",
    "\n",
    "Agora, experimente fazer esses dois testes:"
   ]
  },
  {
   "cell_type": "code",
   "execution_count": 14,
   "metadata": {
    "collapsed": false
   },
   "outputs": [
    {
     "data": {
      "text/plain": [
       "builtin_function_or_method"
      ]
     },
     "execution_count": 14,
     "metadata": {},
     "output_type": "execute_result"
    }
   ],
   "source": [
    "type(len)"
   ]
  },
  {
   "cell_type": "code",
   "execution_count": 15,
   "metadata": {
    "collapsed": false
   },
   "outputs": [
    {
     "data": {
      "text/plain": [
       "7"
      ]
     },
     "execution_count": 15,
     "metadata": {},
     "output_type": "execute_result"
    }
   ],
   "source": [
    "len('sorvete')"
   ]
  },
  {
   "cell_type": "code",
   "execution_count": 16,
   "metadata": {
    "collapsed": false
   },
   "outputs": [
    {
     "data": {
      "text/plain": [
       "int"
      ]
     },
     "execution_count": 16,
     "metadata": {},
     "output_type": "execute_result"
    }
   ],
   "source": [
    "type(len('sorvete'))"
   ]
  },
  {
   "cell_type": "markdown",
   "metadata": {},
   "source": [
    "Ao perguntarmos qual é o tipo do objeto associado ao nome `len`, Python responde: `builtin_function_or_method`. O nome `len` refere-se a uma função embutida no próprio interpretador. No teste seguinte, fornecemos um argumento para a função `len`, e assim produzimos um resultado, `7` -- a quantidade de caracteres da palavra \"sorvete\".\n",
    "\n",
    "Em seguida, aplicamos a função `type` ao resultado, retornando a informação de que se trata de um dado do tipo `int`. Ou seja, `len` é uma expressão do tipo `builtin_function_or_method`, mas `len('sorvete')` é uma expressão do tipo `int`. Faz sentido? Se não faz, escreva reclamando!\n",
    "\n",
    "Cada tipo de dados suporta operações diferentes. Faça algumas experiências e analise os resultados:"
   ]
  },
  {
   "cell_type": "code",
   "execution_count": 18,
   "metadata": {
    "collapsed": false
   },
   "outputs": [
    {
     "data": {
      "text/plain": [
       "30"
      ]
     },
     "execution_count": 18,
     "metadata": {},
     "output_type": "execute_result"
    }
   ],
   "source": [
    "n1 = 10\n",
    "n2 = 20\n",
    "n1 + n2"
   ]
  },
  {
   "cell_type": "code",
   "execution_count": 19,
   "metadata": {
    "collapsed": false
   },
   "outputs": [
    {
     "data": {
      "text/plain": [
       "'abacatebanana'"
      ]
     },
     "execution_count": 19,
     "metadata": {},
     "output_type": "execute_result"
    }
   ],
   "source": [
    "n1 = 'abacate'\n",
    "n2 = 'banana'\n",
    "n1 + n2"
   ]
  },
  {
   "cell_type": "code",
   "execution_count": 20,
   "metadata": {
    "collapsed": false
   },
   "outputs": [
    {
     "data": {
      "text/plain": [
       "'bananaabacate'"
      ]
     },
     "execution_count": 20,
     "metadata": {},
     "output_type": "execute_result"
    }
   ],
   "source": [
    "n2 + n1"
   ]
  },
  {
   "cell_type": "markdown",
   "metadata": {},
   "source": [
    "Por exemplo, o operador + realiza uma soma quando aplicado a dados numéricos, mas quando aplicado a dados do tipo '`string`', o sinal `+` faz uma operação de concatenação (junção de duas seqüências). Agora experimente isto:"
   ]
  },
  {
   "cell_type": "code",
   "execution_count": 21,
   "metadata": {
    "collapsed": false
   },
   "outputs": [
    {
     "data": {
      "text/plain": [
       "15.0"
      ]
     },
     "execution_count": 21,
     "metadata": {},
     "output_type": "execute_result"
    }
   ],
   "source": [
    "x = 3.\n",
    "x * 5    "
   ]
  },
  {
   "cell_type": "code",
   "execution_count": 22,
   "metadata": {
    "collapsed": false
   },
   "outputs": [
    {
     "data": {
      "text/plain": [
       "'xxxxx'"
      ]
     },
     "execution_count": 22,
     "metadata": {},
     "output_type": "execute_result"
    }
   ],
   "source": [
    "'x' * 5"
   ]
  },
  {
   "cell_type": "markdown",
   "metadata": {},
   "source": [
    "Note que x e 'x' são coisas totalmente diferentes. x é o nome de uma variável que neste momento se refere ao valor `3.0` (um '`float`'). O resultado de `x * 5` é `15.0` (outro '`float`', como era de se esperar). Já `x` é uma '`string`' com um caractere. Quando o sinal `*` é aplicado entre uma '`string`' e um número inteiro, Python realiza uma operação de repetição. Como você pode notar, os operadores `+` e `*` fazem coisas diferentes dependendo dos tipos de dados fornecidos na expressão.\n",
    "\n",
    "É ótimo trabalhar com Python porque é uma linguagem muito coerente. Observe:"
   ]
  },
  {
   "cell_type": "code",
   "execution_count": 23,
   "metadata": {
    "collapsed": false
   },
   "outputs": [
    {
     "data": {
      "text/plain": [
       "[1, 2, 3, 4]"
      ]
     },
     "execution_count": 23,
     "metadata": {},
     "output_type": "execute_result"
    }
   ],
   "source": [
    "[1,2] + [3,4]"
   ]
  },
  {
   "cell_type": "code",
   "execution_count": 24,
   "metadata": {
    "collapsed": false
   },
   "outputs": [
    {
     "data": {
      "text/plain": [
       "'121212'"
      ]
     },
     "execution_count": 24,
     "metadata": {},
     "output_type": "execute_result"
    }
   ],
   "source": [
    "'12' * 3"
   ]
  },
  {
   "cell_type": "code",
   "execution_count": 25,
   "metadata": {
    "collapsed": false
   },
   "outputs": [
    {
     "data": {
      "text/plain": [
       "[1, 2, 1, 2, 1, 2]"
      ]
     },
     "execution_count": 25,
     "metadata": {},
     "output_type": "execute_result"
    }
   ],
   "source": [
    "[1,2] * 3"
   ]
  },
  {
   "cell_type": "markdown",
   "metadata": {},
   "source": [
    "No primeiro exemplo, vemos o operador `+` concatenando duas listas. Os outros dois exemplos mostram a operação de repetição. Note que `12` não é um número, mas uma '`string`' composta pelos caracteres `1` e `2`. Para Python, '`strings`' e listas têm muito em comum: ambas são seqüências de itens. Enquanto '`strings`' são seqüências de caracteres, listas são seqüências de itens quaisquer. Nos dois casos, concatenação e repetição funcionam de forma logicamente idêntica."
   ]
  },
  {
   "cell_type": "markdown",
   "metadata": {},
   "source": [
    "## Enfeitando a tabela\n",
    "\n",
    "Agora que sabemos sobre alguns tipos de dados, e que os operadores funcionam de forma diferente conforme os dados da expressão, estamos prontos para aperfeiçoar nosso gerador de tabelas usando o poderoso operador '%', que em Python não tem nada a ver com porcentagens. Para ver como ele funciona, vamos criar uma '`string`' como esta:"
   ]
  },
  {
   "cell_type": "code",
   "execution_count": 26,
   "metadata": {
    "collapsed": true
   },
   "outputs": [],
   "source": [
    "msg = 'um dólar vale %f real.'"
   ]
  },
  {
   "cell_type": "markdown",
   "metadata": {},
   "source": [
    "Agora vamos ver o que acontece quando chamamos a variável `msg`:"
   ]
  },
  {
   "cell_type": "code",
   "execution_count": 27,
   "metadata": {
    "collapsed": false
   },
   "outputs": [
    {
     "data": {
      "text/plain": [
       "'um dólar vale %f real.'"
      ]
     },
     "execution_count": 27,
     "metadata": {},
     "output_type": "execute_result"
    }
   ],
   "source": [
    "msg"
   ]
  },
  {
   "cell_type": "markdown",
   "metadata": {},
   "source": [
    "Python representa varíaveis '`str`' dessa forma: entre aspas simples. Se você quiser exibir o conteúdo de `msg` de forma mais apresentável, use o comando `print`:\n",
    "\n",
    "    >>> print msg\n",
    "    um dólar vale %f real.\n",
    "    >>>\n",
    "\n",
    "OK, é hora de explicar porque colocamos esse estranho `%f` dentro da mensagem. Trata-se de um marcador de posição para sinalizar onde Python deverá inserir um número quando quisermos imprimir a mensagem com o valor da cotação. Experimente digitar o seguinte:\n",
    "\n",
    "    >>> d = 1.902\n",
    "    >>> print msg % d\n",
    "    um dólar vale 1.902000 real.\n",
    "    >>>\n",
    "\n",
    "Veja o que aconteceu: Python substituiu a marca `%f` pelo valor da variável `d`. É assim que funciona: a partir de uma '`string`' com marcas de posição e um ou mais valores, o operador `%` produz uma nova '`string`' com os valores inseridos nas respectivas posições. Veja agora um exemplo com dois valores:\n",
    "\n",
    "    >>> msg2 = 'Um dólar vale %f real e um real vale %f dólar.'\n",
    "    >>> print msg2 % (d, 1/d)\n",
    "    Um dólar vale 1.902000 real e um real vale 0.525762 dólar.\n",
    "    >>>\n",
    "\n",
    "Note que os valores `d` e `1/d` estão entre parênteses. Isso é obrigatório quando queremos passar mais de um valor para o operador `%` (uma sequência de valores entre parênteses é uma \"tupla\", um tipo especial de sequência que explicaremos em um outro capítulo).\n",
    "\n",
    "O símbolo `%f` serve para informar a Python que o valor a ser inserido naquela posição é um '`float`'. Se você quiser limitar o número de casas após o ponto decimal, basta usar um formato como esse:\n",
    "\n",
    "    >>> d = 1.685\n",
    "    >>> '%.2f' % d\n",
    "    '1.69'\n",
    "    >>>\n",
    "\n",
    "Após o marcador `%`, a indicação `.2` determina que devem aparecer duas casas decimais após o ponto. Note que o resultado é arredondado: `1.685` virou `1.69`. Vamos usar esse recurso na nossa tabela:\n",
    "\n",
    "    >>> for p in range(4,16):  print 'US$ %.2f = R$ %.2f' % (p,p*d)\n",
    "\n",
    "    US$ 4.00 = R$ 6.74\n",
    "    US$ 5.00 = R$ 8.43\n",
    "    US$ 6.00 = R$ 10.12\n",
    "    US$ 7.00 = R$ 11.80\n",
    "    US$ 8.00 = R$ 13.49\n",
    "    US$ 9.00 = R$ 15.17\n",
    "    US$ 10.00 = R$ 16.86\n",
    "    US$ 11.00 = R$ 18.55\n",
    "    US$ 12.00 = R$ 20.23\n",
    "    US$ 13.00 = R$ 21.92\n",
    "    US$ 14.00 = R$ 23.60\n",
    "    US$ 15.00 = R$ 25.29\n",
    "    >>>\n",
    "\n",
    "Está quase linda. Falta só consertar o degrau que acontece entre a linha do 9 e do 10. No marcador de posição você também pode colocar um número à esquerda do ponto para definir a largura total do espaço que será reservado. Na faixa de preços de 4 a 15, os maiores valores tem cinco caracteres de comprimento (incluindo o ponto decimal), por isso vamos usar `%5.2f`. Agora podemos fazer uma versão bem melhor da tabela:\n",
    "\n",
    "    >>> for p in range(4,16):  print 'US$ %5.2f = R$ %5.2f' % (p,p*d)\n",
    "\n",
    "    US$  4.00 = R$  6.74\n",
    "    US$  5.00 = R$  8.43\n",
    "    US$  6.00 = R$ 10.12\n",
    "    US$  7.00 = R$ 11.80\n",
    "    US$  8.00 = R$ 13.49\n",
    "    US$  9.00 = R$ 15.17\n",
    "    US$ 10.00 = R$ 16.86\n",
    "    US$ 11.00 = R$ 18.55\n",
    "    US$ 12.00 = R$ 20.23\n",
    "    US$ 13.00 = R$ 21.92\n",
    "    US$ 14.00 = R$ 23.60\n",
    "    US$ 15.00 = R$ 25.29\n",
    "    >>>\n",
    "\n",
    "Entendendo melhor o for\n",
    "-----------------------\n",
    "\n",
    "Como você percebeu, no comando `for` tudo aquilo que aparece após os sinal \":\" é repetido várias vezes, uma vez para cada item da lista de valores indicada após a palavra `in`. Mas os comandos a serem repetidos podem ser vários, e na maioria das vezes não são escritos na mesma linha que o `for`, como temos feito, mas sim em linhas subseqüentes.\n",
    "\n",
    "O comando `for` é algo que chamamos de \"estrutura de controle\", que serve para determinar a forma de execução de um comando ou de uma seqüência de comandos, às vezes chamada de um \"bloco\". Em outras linguagens, os blocos são delimitados por marcadores especiais. Java, Perl e C++ usam os sinais { e } para este fim. Pascal e Delphi usam as palavras `BEGIN` e `END`. Além desses marcadores exigidos pelas linguagens, os programadores usam também o recurso da endentação, ou seja, o recuo em relação à margem esquerda, para tornar mais fácil a visualização da estrutura do programa. Veja este exemplo em Perl:\n",
    "\n",
    "``` sourceCode\n",
    "for ($i = 0; $i < 5; $i++) {  # Atenção: isto é Perl, e não Python.\n",
    "    $v = $i * 3;\n",
    "    print \"$v\\n\";\n",
    "}\n",
    "```\n",
    "\n",
    "Aqui, os comandos `$v = $i * 3;` e `print \"$v\\n\";` formam o bloco que está sobre o controle do comando `for`, ou seja, os dois comandos serão executados repetidamente. O programa equivalente em Python é escrito assim:\n",
    "\n",
    "    for i in range(5):\n",
    "        v = i * 3\n",
    "        print v\n",
    "\n",
    "Na minha opinião, o código em Python é bem mais legível. Para sinalizar quais comandos fazem parte do bloco que está sob o controle do `for`, apenas a endentação é utilizada. Se você está usando o IDLE, esse recuo acontece automaticamente quando uma linha de comando termina com o sinal ':', que em Python sempre indica o início de um bloco. No interpretador Python invocado a partir da linha de comando no DOS ou em UNIX, a endentação não é automática. Você precisa digitar ao menos um espaço em branco para evitar uma mensagem de erro como essa:\n",
    "\n",
    "    >>> for i in range(5):\n",
    "    ... print i\n",
    "      File \"\", line 2\n",
    "        print i\n",
    "            ^\n",
    "    SyntaxError: invalid syntax\n",
    "\n",
    "Note que o interpretador está reclamando de sintaxe inválida, e apontando (^) para a primeira palavra do bloco que deveria estar recuado. Veja a mesma coisa, com a segunda linha recuada com a tecla \\[TAB\\]:\n",
    "\n",
    "    >>> for i in range(5):\n",
    "    ...     print i\n",
    "    ...\n",
    "    0\n",
    "    1\n",
    "    2\n",
    "    3\n",
    "    4\n",
    "    >>>\n",
    "\n",
    "Já deve ter ficado claro porque era preciso teclar \\[ENTER\\] duas vezes depois do `for` nos exemplos anteriores: é que, no modo interativo, o interpretador Python espera uma linha em branco para sinalizar o final de uma série de comandos que formam um bloco dentro de uma estrutura de controle.\n",
    "\n",
    "Agora que entendemos o conceito de bloco, podemos enfeitar ainda mais a nossa tabela colocando um segundo comando `print` dentro do nosso `for`.\n",
    "\n",
    "Veja este exemplo:\n",
    "\n",
    "    >>> for p in range(9,13):\n",
    "    ...    print 'US$ %5.2f = R$ %5.2f' % (p, p * d)\n",
    "    ...    print '-' * 20\n",
    "    ...\n",
    "    US$  9.00 = R$ 15.17\n",
    "    --------------------\n",
    "    US$ 10.00 = R$ 16.85\n",
    "    --------------------\n",
    "    US$ 11.00 = R$ 18.54\n",
    "    --------------------\n",
    "    US$ 12.00 = R$ 20.22\n",
    "    --------------------\n",
    "    >>>\n",
    "\n",
    "A outra face do `%`\n",
    "-------------------\n",
    "\n",
    "Antes de encerrar este capítulo, vale a pena contar que, assim como o `+` e o `*`, o operador `%` também tem dupla personalidade. Quando aplicado sobre dois números, que podem ser inteiros ou '`floats`', o `%` retorna o resto da divisão inteira do primeiro pelo segundo. Veja só:\n",
    "\n",
    "    >>> 6 % 3\n",
    "    0\n",
    "    >>> 7 % 3\n",
    "    1\n",
    "    >>> 8 % 3\n",
    "    2\n",
    "    >>> 9 % 3\n",
    "    0\n",
    "    >>>\n",
    "\n",
    "Explicando: `6 / 3` dá 2, e o resto é 0; a divisão inteira de `7 / 3` também dá 2, mas o resto é 1. Esta operação é chamada de \"modulo\" em inglês. Sua principal utilidade é determinar se um número é múltiplo de outro. Nos exemplos acima, o resultado de `6 % 3` e `9 % 3` é zero, porque 6 e 9 são múltiplos de 3.\n",
    "\n",
    "No próximo capítulo vamos começar a elaborar programas mais extensos. O modo interativo, que temos usado até agora, vai continuar sendo útil para testarmos novas idéias e observar o comportamento de funções e módulos do Python rapidamente. Mas, a partir da próxima sessão, vamos começar a gravar nossos programas para uso posterior, em vez de digitá-los diretamente no interpretador. E vamos também descobrir como solicitar informações do usuário, de forma que os programas possam ser utilizados por pessoas que não sabem programar e preferem ficar longe de um interpretador interativo."
   ]
  },
  {
   "cell_type": "markdown",
   "metadata": {},
   "source": []
  },
  {
   "cell_type": "code",
   "execution_count": null,
   "metadata": {
    "collapsed": true
   },
   "outputs": [],
   "source": []
  }
 ],
 "metadata": {
  "kernelspec": {
   "display_name": "Python 3",
   "language": "python",
   "name": "python3"
  },
  "language_info": {
   "codemirror_mode": {
    "name": "ipython",
    "version": 3
   },
   "file_extension": ".py",
   "mimetype": "text/x-python",
   "name": "python",
   "nbconvert_exporter": "python",
   "pygments_lexer": "ipython3",
   "version": "3.5.1"
  }
 },
 "nbformat": 4,
 "nbformat_minor": 0
}
